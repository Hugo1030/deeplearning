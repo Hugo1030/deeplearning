{
 "cells": [
  {
   "cell_type": "code",
   "execution_count": 13,
   "metadata": {},
   "outputs": [
    {
     "name": "stdout",
     "output_type": "stream",
     "text": [
      "The watermark extension is already loaded. To reload it, use:\n",
      "  %reload_ext watermark\n",
      "Hugo 2017-12-03 \n",
      "\n",
      "CPython 3.6.2\n",
      "IPython 6.1.0\n",
      "\n",
      "tensorflow 1.3.0\n",
      "numpy 1.13.3\n",
      "pandas 0.20.3\n",
      "\n",
      "compiler   : GCC 4.2.1 (Apple Inc. build 5666) (dot 3)\n",
      "system     : Darwin\n",
      "release    : 17.2.0\n",
      "machine    : x86_64\n",
      "processor  : i386\n",
      "CPU cores  : 4\n",
      "interpreter: 64bit\n"
     ]
    }
   ],
   "source": [
    "# 运行环境\n",
    "%load_ext watermark\n",
    "%watermark -p tensorflow,numpy,pandas -v -m -a 'Hugo' -d"
   ]
  },
  {
   "cell_type": "code",
   "execution_count": 66,
   "metadata": {},
   "outputs": [],
   "source": [
    "import tensorflow as tf\n",
    "import numpy as np\n",
    "import jieba\n",
    "from collections import Counter\n",
    "import time\n",
    "import matplotlib.pyplot as plt\n",
    "import pandas as pd\n",
    "\n",
    "%matplotlib inline"
   ]
  },
  {
   "cell_type": "markdown",
   "metadata": {},
   "source": [
    "# 语料预处理"
   ]
  },
  {
   "cell_type": "code",
   "execution_count": 67,
   "metadata": {},
   "outputs": [],
   "source": [
    "## 读取文件\n",
    "sentences = []\n",
    "labels_train = []\n",
    "with open('corpus/train_shuffle.txt') as f:\n",
    "    for line in f.readlines():\n",
    "        sentences.append(line.strip().split('\\t')[0])\n",
    "        labels_train.append(line.strip().split('\\t')[1])"
   ]
  },
  {
   "cell_type": "code",
   "execution_count": 68,
   "metadata": {},
   "outputs": [
    {
     "data": {
      "text/plain": [
       "['装了xp系统后，没有出现网友说的驱动不好装的情况',\n",
       " '总的来说,比较干净,而且地理位置很好,市区繁华地段.进出方便.',\n",
       " '2、散热很好，这个不用解释了',\n",
       " '温度控制的非常好，噪音也不大，',\n",
       " '早上6点多有\"按摩\"电话过来，^_^；不想被打扰的话拔掉电话插头吧',\n",
       " '网上所披露的位于海河最美的一段，特意要了6层的房间，可是却没看到海河的影子……',\n",
       " '感觉还不错，房间干净，舒服，具有五星酒店的质数，服务态度还可以，因为觉得服务员有点冷淡。最不好的是地方比较偏，酒店所处位置说得好听的是新城区，直白的就是差不多就是郊区了，好在汕头并不大，到市区繁华的地方也花不了多少时间。另外，酒店附近有一间酒楼，名字叫快活海鲜城，不错。装修上档次，但价钱不贵，出品好，值得推荐。',\n",
       " '这是一本令人着迷的书，一本可爱的百科全书，一看到书中的介绍，就不禁情动了。一个优秀的男人，是应该杂学博记，能触类旁通的。从小性子里就充满着野性，对于那种粗糙生活有着难以言喻的情结。这一切，恰恰都在书里能找到。有很大的可能，会抢爸爸的角色。哈哈！当然，这本书对小儿子而言还是买的太早了些，希望我的宝贝能早些长大，快快和妈妈一起探险。',\n",
       " '外观好，，，做工不错，键盘手感好，应该是sony一贯的作风吧，，，',\n",
       " '虽然是老酒店，设备倒是很齐备，价格也合理。']"
      ]
     },
     "execution_count": 68,
     "metadata": {},
     "output_type": "execute_result"
    }
   ],
   "source": [
    "sentences[:10]"
   ]
  },
  {
   "cell_type": "code",
   "execution_count": 75,
   "metadata": {},
   "outputs": [],
   "source": [
    "# 对每句话进行分词，去掉不影响情感分类的标点、英文字母\n",
    "sentencts_cut = []\n",
    "\n",
    "for sentence in sentences:\n",
    "    words_cut = []\n",
    "    for words in jieba.cut(sentence):\n",
    "        if words >= u'u4e00' and words <= u'u9fa5'\n",
    "            words_cut.append(words)\n",
    "    sentencts_cut.append(words_cut)"
   ]
  },
  {
   "cell_type": "code",
   "execution_count": 77,
   "metadata": {
    "scrolled": true
   },
   "outputs": [
    {
     "data": {
      "text/plain": [
       "[['装', '了', '系统', '后', '没有', '出现', '网友', '说', '的', '驱动', '不好', '装', '的', '情况'],\n",
       " ['总的来说', '比较', '干净', '而且', '地理位置', '很', '好', '市区', '繁华', '地段', '进出', '方便'],\n",
       " ['散热', '很', '好', '这个', '不用', '解释', '了'],\n",
       " ['温度控制', '的', '非常', '好', '噪音', '也', '不大'],\n",
       " ['早上',\n",
       "  '点多',\n",
       "  '有',\n",
       "  '按摩',\n",
       "  '电话',\n",
       "  '过来',\n",
       "  '不想',\n",
       "  '被',\n",
       "  '打扰',\n",
       "  '的话',\n",
       "  '拔掉',\n",
       "  '电话',\n",
       "  '插头',\n",
       "  '吧']]"
      ]
     },
     "execution_count": 77,
     "metadata": {},
     "output_type": "execute_result"
    }
   ],
   "source": [
    "sentencts_cut[:5]"
   ]
  },
  {
   "cell_type": "code",
   "execution_count": null,
   "metadata": {
    "collapsed": true
   },
   "outputs": [],
   "source": []
  }
 ],
 "metadata": {
  "kernelspec": {
   "display_name": "Python 3",
   "language": "python",
   "name": "python3"
  },
  "language_info": {
   "codemirror_mode": {
    "name": "ipython",
    "version": 3
   },
   "file_extension": ".py",
   "mimetype": "text/x-python",
   "name": "python",
   "nbconvert_exporter": "python",
   "pygments_lexer": "ipython3",
   "version": "3.6.2"
  },
  "toc": {
   "nav_menu": {},
   "number_sections": true,
   "sideBar": true,
   "skip_h1_title": false,
   "toc_cell": false,
   "toc_position": {},
   "toc_section_display": "block",
   "toc_window_display": false
  }
 },
 "nbformat": 4,
 "nbformat_minor": 2
}
