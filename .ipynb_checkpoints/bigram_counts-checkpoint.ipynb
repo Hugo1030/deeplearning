{
 "cells": [
  {
   "cell_type": "markdown",
   "metadata": {},
   "source": [
    "## 基础任务"
   ]
  },
  {
   "cell_type": "markdown",
   "metadata": {},
   "source": [
    "### 1.下载文件"
   ]
  },
  {
   "cell_type": "code",
   "execution_count": 6,
   "metadata": {},
   "outputs": [
    {
     "name": "stdout",
     "output_type": "stream",
     "text": [
      "--2017-09-13 06:04:15--  https://raw.githubusercontent.com/AIHackers/DeepLearningStartUp/master/happiness_seg.txt\n",
      "Resolving raw.githubusercontent.com... 151.101.72.133\n",
      "Connecting to raw.githubusercontent.com|151.101.72.133|:443... connected.\n",
      "HTTP request sent, awaiting response... 200 OK\n",
      "Length: 1503432 (1.4M) [text/plain]\n",
      "Saving to: ‘happiness_seg.txt’\n",
      "\n",
      "happiness_seg.txt   100%[===================>]   1.43M  1.66MB/s    in 0.9s    \n",
      "\n",
      "2017-09-13 06:04:17 (1.66 MB/s) - ‘happiness_seg.txt’ saved [1503432/1503432]\n",
      "\n"
     ]
    }
   ],
   "source": [
    "!wget https://raw.githubusercontent.com/AIHackers/DeepLearningStartUp/master/happiness_seg.txt"
   ]
  },
  {
   "cell_type": "markdown",
   "metadata": {},
   "source": [
    "### 2. 读取文件"
   ]
  },
  {
   "cell_type": "code",
   "execution_count": 79,
   "metadata": {
    "collapsed": true
   },
   "outputs": [],
   "source": [
    "with open('happiness_seg.txt') as file:\n",
    "    content = file.read()"
   ]
  },
  {
   "cell_type": "markdown",
   "metadata": {
    "collapsed": true
   },
   "source": [
    "### 3. 加工信息"
   ]
  },
  {
   "cell_type": "code",
   "execution_count": 106,
   "metadata": {
    "collapsed": true
   },
   "outputs": [],
   "source": [
    "import re\n",
    "import zhon.hanzi as zh\n",
    "from collections import Counter\n",
    "\n",
    "lst1 = re.split(r'[{}]'.format(zh.punctuation), content)  # 用zhon包按照中文标点进行切割成列表\n",
    "lst2 = [s.replace('― ―', '') for s in lst1]  # 去掉文章中的‘- -’符号"
   ]
  },
  {
   "cell_type": "markdown",
   "metadata": {},
   "source": [
    "### 4. 切割二元词组"
   ]
  },
  {
   "cell_type": "code",
   "execution_count": 107,
   "metadata": {
    "collapsed": true
   },
   "outputs": [],
   "source": [
    "bigrams = [b for l in lst3 for b in zip(l.split()[:-1], l.split()[1:])]  # 进行二元词组分词"
   ]
  },
  {
   "cell_type": "markdown",
   "metadata": {
    "collapsed": true
   },
   "source": [
    "### 5. 统计词频最高词组"
   ]
  },
  {
   "cell_type": "code",
   "execution_count": 108,
   "metadata": {},
   "outputs": [
    {
     "name": "stdout",
     "output_type": "stream",
     "text": [
      "[(('的', '人'), 923), (('他', '的'), 503), (('自己', '的'), 480), (('上', '的'), 356), (('他们', '的'), 335), (('人', '的'), 293), (('的', '时候'), 261), (('就', '会'), 225), (('的', '东西'), 207), (('都', '是'), 206)]\n"
     ]
    }
   ],
   "source": [
    "from collections import Counter\n",
    "\n",
    "bigram_counts = Counter(bigrams)\n",
    "top_ten = bigram_counts.most_common(10)\n",
    "print(top_ten)"
   ]
  },
  {
   "cell_type": "markdown",
   "metadata": {},
   "source": [
    "### 参考资料：\n",
    "* 下载文件：[linux-wget.md](https://gist.github.com/JingwenTian/d48e457a54292b7718b2)\n",
    "* 统计词频：[序列中出现次数最多的元素](http://python3-cookbook.readthedocs.io/zh_CN/latest/c01/p12_determine_most_freqently_items_in_seq.html)\n",
    "* 切割二元词组：[Forming Bigrams of words in list of sentences with Python](coursera.org/specializations/deep-learning)\n",
    "* 处理中文标点：[Python文本处理——中文标点符号处理](http://www.cnblogs.com/arkenstone/p/6092255.html) 和 [Zhon](http://zhon.readthedocs.io/en/latest/#)"
   ]
  },
  {
   "cell_type": "markdown",
   "metadata": {},
   "source": [
    "## 进阶任务一"
   ]
  },
  {
   "cell_type": "code",
   "execution_count": 5,
   "metadata": {},
   "outputs": [
    {
     "data": {
      "text/plain": [
       "2*x**2*cos(x**2) + sin(x**2)"
      ]
     },
     "execution_count": 5,
     "metadata": {},
     "output_type": "execute_result"
    }
   ],
   "source": [
    "from sympy import *\n",
    "x=Symbol(\"x\")\n",
    "diff(sin(x**2)*x)"
   ]
  },
  {
   "cell_type": "markdown",
   "metadata": {},
   "source": [
    "## 进阶任务二"
   ]
  },
  {
   "cell_type": "markdown",
   "metadata": {},
   "source": [
    "### 1.使用标准正态分布生成一个 100 元素的数组（以 0 为均值）"
   ]
  },
  {
   "cell_type": "code",
   "execution_count": 13,
   "metadata": {},
   "outputs": [
    {
     "name": "stdout",
     "output_type": "stream",
     "text": [
      "[[-0.30968644  0.67529345 -0.12598747 -2.18773657 -0.56248453  1.2059893\n",
      "  -0.66647715 -1.47072489  0.70109959  0.27528627]\n",
      " [ 2.90514208 -0.2767408  -0.55835501 -0.74013097 -0.7845294   0.08612704\n",
      "   0.25762021  0.13253942  0.36717156  0.88138477]\n",
      " [ 0.62135644  1.08715734 -0.85988339 -0.17396061 -0.23253893 -1.55740821\n",
      "  -0.7600189  -1.34371466 -0.87756962  0.41614416]\n",
      " [ 2.08813768 -0.53598287  0.01881603  1.07672489 -0.83238493 -1.3569904\n",
      "   0.08042126  1.64187784 -0.12963276 -0.83831965]\n",
      " [-0.98833694 -1.2016546   1.47099556 -1.94462779  1.28275996  0.00761649\n",
      "  -2.79601869 -1.95701241 -1.01523503 -0.69248932]\n",
      " [-0.63502422  0.17364674  0.40438084  1.50149591 -0.74445294  0.68418876\n",
      "   0.13979321 -0.71150186 -0.89718946 -0.79091868]\n",
      " [ 1.14576874  0.58548419 -0.27965825  0.0640816   1.96326739  3.12983968\n",
      "   0.05451965 -1.26438684 -0.47040943 -1.71041498]\n",
      " [-1.52402993  0.54496626 -2.24128293 -1.26267516  0.00643375 -0.89900971\n",
      "  -0.02497535 -0.54083986  0.25069326  1.69217529]\n",
      " [-0.91206749 -1.44135976 -1.56738158 -1.00646306  1.72654371  0.39544779\n",
      "   2.17242181 -0.40097889  1.43181783 -2.05329297]\n",
      " [-1.31052573 -0.49539188  0.31519801 -0.49450485 -0.74520296 -0.85632677\n",
      "   1.41701052  0.48727752  1.19140561  0.32161222]]\n"
     ]
    }
   ],
   "source": [
    "import numpy as np\n",
    "a = np.random.randn(10,10)\n",
    "print(a)"
   ]
  },
  {
   "cell_type": "markdown",
   "metadata": {},
   "source": [
    "### 2. 用向量化方法将这个数组中 < 0 的元素设置成 0."
   ]
  },
  {
   "cell_type": "code",
   "execution_count": 17,
   "metadata": {},
   "outputs": [
    {
     "name": "stdout",
     "output_type": "stream",
     "text": [
      "[[ 0.          0.67529345  0.          0.          0.          1.2059893\n",
      "   0.          0.          0.70109959  0.27528627]\n",
      " [ 2.90514208  0.          0.          0.          0.          0.08612704\n",
      "   0.25762021  0.13253942  0.36717156  0.88138477]\n",
      " [ 0.62135644  1.08715734  0.          0.          0.          0.          0.\n",
      "   0.          0.          0.41614416]\n",
      " [ 2.08813768  0.          0.01881603  1.07672489  0.          0.\n",
      "   0.08042126  1.64187784  0.          0.        ]\n",
      " [ 0.          0.          1.47099556  0.          1.28275996  0.00761649\n",
      "   0.          0.          0.          0.        ]\n",
      " [ 0.          0.17364674  0.40438084  1.50149591  0.          0.68418876\n",
      "   0.13979321  0.          0.          0.        ]\n",
      " [ 1.14576874  0.58548419  0.          0.0640816   1.96326739  3.12983968\n",
      "   0.05451965  0.          0.          0.        ]\n",
      " [ 0.          0.54496626  0.          0.          0.00643375  0.          0.\n",
      "   0.          0.25069326  1.69217529]\n",
      " [ 0.          0.          0.          0.          1.72654371  0.39544779\n",
      "   2.17242181  0.          1.43181783  0.        ]\n",
      " [ 0.          0.          0.31519801  0.          0.          0.\n",
      "   1.41701052  0.48727752  1.19140561  0.32161222]]\n"
     ]
    }
   ],
   "source": [
    "b = a < 0\n",
    "a[b] = 0 \n",
    "print(a)"
   ]
  },
  {
   "cell_type": "code",
   "execution_count": null,
   "metadata": {
    "collapsed": true
   },
   "outputs": [],
   "source": []
  }
 ],
 "metadata": {
  "kernelspec": {
   "display_name": "Python 3",
   "language": "python",
   "name": "python3"
  },
  "language_info": {
   "codemirror_mode": {
    "name": "ipython",
    "version": 3
   },
   "file_extension": ".py",
   "mimetype": "text/x-python",
   "name": "python",
   "nbconvert_exporter": "python",
   "pygments_lexer": "ipython3",
   "version": "3.6.2"
  }
 },
 "nbformat": 4,
 "nbformat_minor": 2
}
