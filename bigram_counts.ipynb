{
 "cells": [
  {
   "cell_type": "markdown",
   "metadata": {},
   "source": [
    "## 基础任务"
   ]
  },
  {
   "cell_type": "markdown",
   "metadata": {},
   "source": [
    "### 1.下载文件"
   ]
  },
  {
   "cell_type": "code",
   "execution_count": 6,
   "metadata": {},
   "outputs": [
    {
     "name": "stdout",
     "output_type": "stream",
     "text": [
      "--2017-09-13 06:04:15--  https://raw.githubusercontent.com/AIHackers/DeepLearningStartUp/master/happiness_seg.txt\n",
      "Resolving raw.githubusercontent.com... 151.101.72.133\n",
      "Connecting to raw.githubusercontent.com|151.101.72.133|:443... connected.\n",
      "HTTP request sent, awaiting response... 200 OK\n",
      "Length: 1503432 (1.4M) [text/plain]\n",
      "Saving to: ‘happiness_seg.txt’\n",
      "\n",
      "happiness_seg.txt   100%[===================>]   1.43M  1.66MB/s    in 0.9s    \n",
      "\n",
      "2017-09-13 06:04:17 (1.66 MB/s) - ‘happiness_seg.txt’ saved [1503432/1503432]\n",
      "\n"
     ]
    }
   ],
   "source": [
    "!wget https://raw.githubusercontent.com/AIHackers/DeepLearningStartUp/master/happiness_seg.txt"
   ]
  },
  {
   "cell_type": "markdown",
   "metadata": {},
   "source": [
    "### 2. 读取文件"
   ]
  },
  {
   "cell_type": "code",
   "execution_count": 79,
   "metadata": {
    "collapsed": true
   },
   "outputs": [],
   "source": [
    "with open('happiness_seg.txt') as file:\n",
    "    content = file.read()"
   ]
  },
  {
   "cell_type": "markdown",
   "metadata": {
    "collapsed": true
   },
   "source": [
    "### 3. 加工信息"
   ]
  },
  {
   "cell_type": "code",
   "execution_count": 106,
   "metadata": {
    "collapsed": true
   },
   "outputs": [],
   "source": [
    "import re\n",
    "import zhon.hanzi as zh\n",
    "from collections import Counter\n",
    "\n",
    "lst1 = re.split(r'[{}]'.format(zh.punctuation), content)  # 用zhon包按照中文标点进行切割成列表\n",
    "lst2 = [s.replace('― ―', '') for s in lst1]  # 去掉文章中的‘- -’符号"
   ]
  },
  {
   "cell_type": "markdown",
   "metadata": {},
   "source": [
    "### 4. 切割二元词组"
   ]
  },
  {
   "cell_type": "code",
   "execution_count": 107,
   "metadata": {
    "collapsed": true
   },
   "outputs": [],
   "source": [
    "bigrams = [b for l in lst3 for b in zip(l.split()[:-1], l.split()[1:])]  # 进行二元词组分词"
   ]
  },
  {
   "cell_type": "markdown",
   "metadata": {
    "collapsed": true
   },
   "source": [
    "### 5. 统计词频最高词组"
   ]
  },
  {
   "cell_type": "code",
   "execution_count": 108,
   "metadata": {},
   "outputs": [
    {
     "name": "stdout",
     "output_type": "stream",
     "text": [
      "[(('的', '人'), 923), (('他', '的'), 503), (('自己', '的'), 480), (('上', '的'), 356), (('他们', '的'), 335), (('人', '的'), 293), (('的', '时候'), 261), (('就', '会'), 225), (('的', '东西'), 207), (('都', '是'), 206)]\n"
     ]
    }
   ],
   "source": [
    "from collections import Counter\n",
    "\n",
    "bigram_counts = Counter(bigrams)\n",
    "top_ten = bigram_counts.most_common(10)\n",
    "print(top_ten)"
   ]
  },
  {
   "cell_type": "markdown",
   "metadata": {},
   "source": [
    "### 参考资料：\n",
    "* 下载文件：[linux-wget.md](https://gist.github.com/JingwenTian/d48e457a54292b7718b2)\n",
    "* 统计词频：[序列中出现次数最多的元素](http://python3-cookbook.readthedocs.io/zh_CN/latest/c01/p12_determine_most_freqently_items_in_seq.html)\n",
    "* 切割二元词组：[Forming Bigrams of words in list of sentences with Python](coursera.org/specializations/deep-learning)\n",
    "* 处理中文标点：[Python文本处理——中文标点符号处理](http://www.cnblogs.com/arkenstone/p/6092255.html) 和 [Zhon](http://zhon.readthedocs.io/en/latest/#)"
   ]
  },
  {
   "cell_type": "markdown",
   "metadata": {},
   "source": [
    "## 进阶任务一"
   ]
  },
  {
   "cell_type": "code",
   "execution_count": 5,
   "metadata": {},
   "outputs": [
    {
     "data": {
      "text/plain": [
       "2*x**2*cos(x**2) + sin(x**2)"
      ]
     },
     "execution_count": 5,
     "metadata": {},
     "output_type": "execute_result"
    }
   ],
   "source": [
    "from sympy import *\n",
    "x=Symbol(\"x\")\n",
    "diff(sin(x**2)*x)"
   ]
  },
  {
   "cell_type": "markdown",
   "metadata": {},
   "source": [
    "## 进阶任务二"
   ]
  },
  {
   "cell_type": "code",
   "execution_count": 6,
   "metadata": {},
   "outputs": [
    {
     "data": {
      "text/plain": [
       "array([[ 0.87051886,  1.74541981, -1.00808974, -0.37076095,  0.31510354,\n",
       "        -1.40825092, -1.4856442 , -1.41516778, -1.04765926, -0.34389618],\n",
       "       [-0.1807049 ,  1.61060053,  0.2080588 ,  0.49644949,  1.49466167,\n",
       "         0.37897513, -0.34496119,  0.16126434,  0.53757876,  1.26474212],\n",
       "       [-0.82989172,  1.90867292,  0.28290912,  1.39777905,  0.62537499,\n",
       "         0.31412424, -0.90049584,  1.34780994,  0.76500924, -0.05625237],\n",
       "       [ 1.08461175,  0.77288054,  1.05595623, -0.30150769, -0.61999695,\n",
       "        -0.69640414,  0.32873155,  0.3019611 ,  0.19796352,  1.10507357],\n",
       "       [-0.46876279, -0.60154497,  0.84271615, -0.74743339,  2.5573627 ,\n",
       "         0.70282419, -0.03378469, -0.23062298,  0.56892326,  0.3332943 ],\n",
       "       [ 1.34372845, -0.22450575, -0.38177209,  0.01282641, -0.73374377,\n",
       "        -1.34612828, -0.96566286,  0.17161948, -0.10344273,  1.06642065],\n",
       "       [-1.40524251,  0.15241935,  0.85415238, -0.24590109,  1.83021309,\n",
       "         0.04184538, -0.09436043, -0.38491017, -0.40603984,  0.25605637],\n",
       "       [ 0.23168022,  0.8596466 , -1.84046078,  0.96573383,  1.0578217 ,\n",
       "         0.82382667,  0.14031703, -0.02019668, -0.25072944,  0.62605185],\n",
       "       [-0.54951253, -0.26993822, -0.57314019,  0.29521006, -0.46897955,\n",
       "        -0.36253072, -0.23793616,  1.61280472, -2.98531194,  0.5775072 ],\n",
       "       [-0.49993928, -0.21053174,  0.50074174,  0.01871075, -0.04261468,\n",
       "        -0.79083742, -0.43630167, -1.55488476,  0.13443016,  0.40895639]])"
      ]
     },
     "execution_count": 6,
     "metadata": {},
     "output_type": "execute_result"
    }
   ],
   "source": [
    "import numpy as np\n",
    "np.random.normal(size=(10,10))"
   ]
  },
  {
   "cell_type": "code",
   "execution_count": null,
   "metadata": {
    "collapsed": true
   },
   "outputs": [],
   "source": []
  }
 ],
 "metadata": {
  "kernelspec": {
   "display_name": "Python 3",
   "language": "python",
   "name": "python3"
  },
  "language_info": {
   "codemirror_mode": {
    "name": "ipython",
    "version": 3
   },
   "file_extension": ".py",
   "mimetype": "text/x-python",
   "name": "python",
   "nbconvert_exporter": "python",
   "pygments_lexer": "ipython3",
   "version": "3.6.2"
  }
 },
 "nbformat": 4,
 "nbformat_minor": 2
}
