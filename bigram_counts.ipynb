{
 "cells": [
  {
   "cell_type": "markdown",
   "metadata": {},
   "source": [
    "### 参考资料：\n",
    "* [linux-wget.md](https://gist.github.com/JingwenTian/d48e457a54292b7718b2)\n",
    "* [序列中出现次数最多的元素](http://python3-cookbook.readthedocs.io/zh_CN/latest/c01/p12_determine_most_freqently_items_in_seq.html)\n",
    "* [Forming Bigrams of words in list of sentences with Python](coursera.org/specializations/deep-learning)\n",
    "* [Python文本处理——中文标点符号处理](Python文本处理——中文标点符号处理)\n",
    "* [详解Python中re.sub](https://www.crifan.com/python_re_sub_detailed_introduction/)"
   ]
  },
  {
   "cell_type": "markdown",
   "metadata": {},
   "source": [
    "### 1.下载文件"
   ]
  },
  {
   "cell_type": "code",
   "execution_count": 6,
   "metadata": {},
   "outputs": [
    {
     "name": "stdout",
     "output_type": "stream",
     "text": [
      "--2017-09-13 06:04:15--  https://raw.githubusercontent.com/AIHackers/DeepLearningStartUp/master/happiness_seg.txt\n",
      "Resolving raw.githubusercontent.com... 151.101.72.133\n",
      "Connecting to raw.githubusercontent.com|151.101.72.133|:443... connected.\n",
      "HTTP request sent, awaiting response... 200 OK\n",
      "Length: 1503432 (1.4M) [text/plain]\n",
      "Saving to: ‘happiness_seg.txt’\n",
      "\n",
      "happiness_seg.txt   100%[===================>]   1.43M  1.66MB/s    in 0.9s    \n",
      "\n",
      "2017-09-13 06:04:17 (1.66 MB/s) - ‘happiness_seg.txt’ saved [1503432/1503432]\n",
      "\n"
     ]
    }
   ],
   "source": [
    "!wget https://raw.githubusercontent.com/AIHackers/DeepLearningStartUp/master/happiness_seg.txt"
   ]
  },
  {
   "cell_type": "markdown",
   "metadata": {},
   "source": [
    "### 2. 读取文件"
   ]
  },
  {
   "cell_type": "code",
   "execution_count": 79,
   "metadata": {},
   "outputs": [],
   "source": [
    "with open('happiness_seg.txt') as file:\n",
    "    content = file.read()"
   ]
  },
  {
   "cell_type": "markdown",
   "metadata": {
    "collapsed": true
   },
   "source": [
    "### 3. 加工信息"
   ]
  },
  {
   "cell_type": "code",
   "execution_count": 105,
   "metadata": {},
   "outputs": [],
   "source": [
    "import re\n",
    "import zhon.hanzi as zh\n",
    "from collections import Counter\n",
    "\n",
    "lst1 = re.split(r'[{}]'.format(zh.punctuation), content)\n",
    "lst2 = [s.strip() for s in lst1]\n",
    "lst3 = [s.replace('― ―', '') for s in lst2]"
   ]
  },
  {
   "cell_type": "markdown",
   "metadata": {},
   "source": [
    "### 4. 切割二元词组"
   ]
  },
  {
   "cell_type": "code",
   "execution_count": 99,
   "metadata": {
    "collapsed": true
   },
   "outputs": [],
   "source": [
    "bigrams = [b for l in lst3 for b in zip(l.split()[:-1], l.split()[1:])]"
   ]
  },
  {
   "cell_type": "markdown",
   "metadata": {
    "collapsed": true
   },
   "source": [
    "### 5. 统计词频最高词组"
   ]
  },
  {
   "cell_type": "code",
   "execution_count": 101,
   "metadata": {},
   "outputs": [
    {
     "name": "stdout",
     "output_type": "stream",
     "text": [
      "[(('的', '人'), 923), (('他', '的'), 503), (('自己', '的'), 480), (('上', '的'), 356), (('他们', '的'), 335), (('人', '的'), 293), (('的', '时候'), 261), (('就', '会'), 225), (('的', '东西'), 207), (('都', '是'), 206)]\n"
     ]
    }
   ],
   "source": [
    "from collections import Counter\n",
    "\n",
    "bigram_counts = Counter(bigrams)\n",
    "top_ten = bigram_counts.most_common(10)\n",
    "print(top_ten)"
   ]
  }
 ],
 "metadata": {
  "kernelspec": {
   "display_name": "Python 3",
   "language": "python",
   "name": "python3"
  },
  "language_info": {
   "codemirror_mode": {
    "name": "ipython",
    "version": 3
   },
   "file_extension": ".py",
   "mimetype": "text/x-python",
   "name": "python",
   "nbconvert_exporter": "python",
   "pygments_lexer": "ipython3",
   "version": "3.6.2"
  }
 },
 "nbformat": 4,
 "nbformat_minor": 2
}
