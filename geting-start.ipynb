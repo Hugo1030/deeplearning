{
 "cells": [
  {
   "cell_type": "code",
   "execution_count": 1,
   "metadata": {},
   "outputs": [
    {
     "name": "stdout",
     "output_type": "stream",
     "text": [
      "Hugo 2017-11-27 \n",
      "\n",
      "CPython 3.6.2\n",
      "IPython 6.1.0\n",
      "\n",
      "numpy 1.13.3\n",
      "pandas 0.20.3\n",
      "matplotlib 2.1.0\n",
      "tensorflow 1.3.0\n",
      "\n",
      "compiler   : GCC 4.2.1 (Apple Inc. build 5666) (dot 3)\n",
      "system     : Darwin\n",
      "release    : 17.2.0\n",
      "machine    : x86_64\n",
      "processor  : i386\n",
      "CPU cores  : 4\n",
      "interpreter: 64bit\n"
     ]
    }
   ],
   "source": [
    "%load_ext watermark\n",
    "%watermark -a 'Hugo' -d -v -m -p numpy,pandas,matplotlib,tensorflow"
   ]
  },
  {
   "cell_type": "code",
   "execution_count": 2,
   "metadata": {
    "collapsed": true
   },
   "outputs": [],
   "source": [
    "import tensorflow as tf\n",
    "import numpy as np\n",
    "import matplotlib.pyplot as plt\n",
    "import random\n",
    "%matplotlib inline"
   ]
  },
  {
   "cell_type": "code",
   "execution_count": 36,
   "metadata": {},
   "outputs": [
    {
     "name": "stdout",
     "output_type": "stream",
     "text": [
      "w: 2\tb: 52\n"
     ]
    }
   ],
   "source": [
    "# 造一些带噪音的随机数\n",
    "w_train = random.randint(1, 10)\n",
    "b_train = random.randint(0, 100)\n",
    "\n",
    "print(\"w: %d\\tb: %d\"%(w_train, b_train))"
   ]
  },
  {
   "cell_type": "code",
   "execution_count": 37,
   "metadata": {
    "collapsed": true,
    "scrolled": true
   },
   "outputs": [],
   "source": [
    "# 得到训练集，y = w* x + b\n",
    "size = 100\n",
    "x_train = np.arange(size)\n",
    "y_train = x_train*w_train + b_train + np.random.normal(loc=0.0, scale=10.0, size=size)"
   ]
  },
  {
   "cell_type": "code",
   "execution_count": 38,
   "metadata": {},
   "outputs": [
    {
     "data": {
      "text/plain": [
       "[<matplotlib.lines.Line2D at 0x11a913198>]"
      ]
     },
     "execution_count": 38,
     "metadata": {},
     "output_type": "execute_result"
    },
    {
     "data": {
      "image/png": "[encoded data removed]",
      "text/plain": [
       "<matplotlib.figure.Figure at 0x11b02d048>"
      ]
     },
     "metadata": {},
     "output_type": "display_data"
    }
   ],
   "source": [
    "# 绘制图形\n",
    "plt.plot(x_train, y_train, '.')"
   ]
  },
  {
   "cell_type": "code",
   "execution_count": 39,
   "metadata": {
    "collapsed": true
   },
   "outputs": [],
   "source": [
    "# 定义 x, y 的 placeholder\n",
    "x = tf.placeholder(tf.float32, shape=(None))\n",
    "y = tf.placeholder(tf.float32, shape=(None))"
   ]
  },
  {
   "cell_type": "code",
   "execution_count": 40,
   "metadata": {
    "collapsed": true
   },
   "outputs": [],
   "source": [
    "# 定义 w, b 的 variable\n",
    "w = tf.Variable(tf.constant(1.0), name='w')\n",
    "b = tf.Variable(tf.constant(0.0), name='b')"
   ]
  },
  {
   "cell_type": "code",
   "execution_count": 41,
   "metadata": {
    "collapsed": true
   },
   "outputs": [],
   "source": [
    "# 定义前馈传播算法\n",
    "y_ = x * w + b"
   ]
  },
  {
   "cell_type": "code",
   "execution_count": 42,
   "metadata": {
    "collapsed": true
   },
   "outputs": [],
   "source": [
    "# 定义损失函数\n",
    "cost = tf.reduce_mean(tf.square(y_ - y))"
   ]
  },
  {
   "cell_type": "code",
   "execution_count": 43,
   "metadata": {
    "collapsed": true
   },
   "outputs": [],
   "source": [
    "# 定义梯度下降优化器\n",
    "train_step = tf.train.AdamOptimizer(0.01).minimize(cost)"
   ]
  },
  {
   "cell_type": "code",
   "execution_count": 46,
   "metadata": {},
   "outputs": [
    {
     "name": "stdout",
     "output_type": "stream",
     "text": [
      "epoch: 0\tcost: 4304.817\n",
      "epoch: 50\tcost: 395.897\n",
      "epoch: 100\tcost: 184.789\n",
      "epoch: 150\tcost: 123.552\n",
      "epoch: 200\tcost: 118.299\n",
      "epoch: 250\tcost: 114.294\n",
      "epoch: 300\tcost: 116.245\n",
      "epoch: 350\tcost: 114.195\n",
      "epoch: 400\tcost: 114.014\n",
      "epoch: 450\tcost: 126.645\n",
      "[2.0013154, 53.521324]\n"
     ]
    },
    {
     "data": {
      "image/png": "[encoded data removed]",
      "text/plain": [
       "<matplotlib.figure.Figure at 0x11a97dd30>"
      ]
     },
     "metadata": {},
     "output_type": "display_data"
    }
   ],
   "source": [
    "# 建立会话\n",
    "# 对数据集进行 shuffle\n",
    "\n",
    "with tf.Session() as sess:\n",
    "    sess.run(tf.global_variables_initializer())\n",
    "    arr = np.arange(size)\n",
    "    for i in range(300):\n",
    "        np.random.shuffle(arr)\n",
    "        for j in range(100):\n",
    "            index = arr[j] # 得到一个随机的 index，然后进行训练\n",
    "            sess.run(train_step, feed_dict={x: x_train.astype(float)[index], y: y_train.astype(float)[index]})\n",
    "            costs = sess.run(cost, feed_dict=feed_dict)\n",
    "        if i % 50 == 0:\n",
    "            print(\"epoch: {:d}\\tcost: {:.3f}\".format(i, costs))\n",
    "    print(sess.run([w, b]))\n",
    "    plt.plot(x_train, y_train, '.')\n",
    "    plt.plot(x_train, sess.run(w)*x_train + sess.run(b))"
   ]
  },
  {
   "cell_type": "code",
   "execution_count": 51,
   "metadata": {},
   "outputs": [
    {
     "name": "stdout",
     "output_type": "stream",
     "text": [
      "epoch: 0\tcost: 3107.820\n",
      "epoch: 50\tcost: 256.900\n",
      "epoch: 100\tcost: 117.969\n",
      "epoch: 150\tcost: 145.192\n",
      "epoch: 200\tcost: 114.846\n",
      "epoch: 250\tcost: 131.416\n",
      "[1.957459, 53.487934]\n"
     ]
    },
    {
     "data": {
      "image/png": "[encoded data removed]",
      "text/plain": [
       "<matplotlib.figure.Figure at 0x11b37b518>"
      ]
     },
     "metadata": {},
     "output_type": "display_data"
    }
   ],
   "source": [
    "# Mini-batch Gradient Descent\n",
    "# 关键是 batch_index\n",
    "\n",
    "batch = 10\n",
    "with tf.Session() as sess:\n",
    "    sess.run(tf.global_variables_initializer())\n",
    "    arr = np.arange(len(x_train))\n",
    "    for i in range(300):\n",
    "        np.random.shuffle(arr)\n",
    "        feed_dict = {x: x_train, y: y_train}\n",
    "        for j in range(100):\n",
    "            batch_index = arr[j: j+batch] \n",
    "            batch_input = x_train[batch_index]\n",
    "            batch_labels = y_train[batch_index]\n",
    "            batch_feed = {x: batch_input, y: batch_labels}\n",
    "            sess.run(train_step, feed_dict=batch_feed)\n",
    "        if i % 50 == 0:\n",
    "            costs = sess.run(cost, feed_dict=feed_dict)\n",
    "            print(\"epoch: {:d}\\tcost: {:.3f}\".format(i, costs))\n",
    "    print(sess.run([w, b]))\n",
    "    plt.plot(x_train, y_train, '.')\n",
    "    plt.plot(x_train, sess.run(w)*x_train + sess.run(b))"
   ]
  }
 ],
 "metadata": {
  "kernelspec": {
   "display_name": "Python 3",
   "language": "python",
   "name": "python3"
  },
  "language_info": {
   "codemirror_mode": {
    "name": "ipython",
    "version": 3
   },
   "file_extension": ".py",
   "mimetype": "text/x-python",
   "name": "python",
   "nbconvert_exporter": "python",
   "pygments_lexer": "ipython3",
   "version": "3.6.2"
  },
  "toc": {
   "nav_menu": {},
   "number_sections": true,
   "sideBar": true,
   "skip_h1_title": false,
   "toc_cell": false,
   "toc_position": {},
   "toc_section_display": "block",
   "toc_window_display": false
  }
 },
 "nbformat": 4,
 "nbformat_minor": 2
}
